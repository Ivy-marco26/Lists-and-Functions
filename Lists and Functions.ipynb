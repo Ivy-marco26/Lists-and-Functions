{
 "cells": [
  {
   "cell_type": "code",
   "execution_count": 40,
   "id": "c57f5752-b854-4e09-a490-ed65ca9af908",
   "metadata": {},
   "outputs": [
    {
     "name": "stdout",
     "output_type": "stream",
     "text": [
      "After capitalizing the person: ['mozzarella', 'Cinderella', 'salmonella']\n",
      "After uppercasing the cheese: ['MOZZARELLA', 'Cinderella', 'salmonella']\n",
      "After deleting the disease: ['MOZZARELLA', 'Cinderella']\n"
     ]
    }
   ],
   "source": [
    "#Marco Gonzalez \n",
    "#April 4, 2025 \n",
    "#Lists and Functions\n",
    "\n",
    "#7.4 - 7.7 \n",
    "things = ['mozzarella', 'cinderella', 'salmonella']\n",
    "\n",
    "things[1] = things[1].capitalize()\n",
    "print(\"After capitalizing the person:\", things)\n",
    "#after running the code, it did capitalize the element did change \n",
    "\n",
    "things[0] = things[0].upper()\n",
    "print(\"After uppercasing the cheese:\", things)\n",
    "#Did print all upercase \n",
    "\n",
    "del things[2]\n",
    "print(\"After deleting the disease:\", things)\n",
    "#did delete disease "
   ]
  },
  {
   "cell_type": "code",
   "execution_count": 54,
   "id": "fb800806-b8db-4016-af1e-eac58978e894",
   "metadata": {},
   "outputs": [],
   "source": [
    "#9.1 \n",
    "def good(): \n",
    "    return ['Harry', 'Ron', 'Hermione']\n",
    "\n",
    "def get_odds(): \n",
    "    for get_odd () return range(10)"
   ]
  }
 ],
 "metadata": {
  "kernelspec": {
   "display_name": "Python [conda env:base] *",
   "language": "python",
   "name": "conda-base-py"
  },
  "language_info": {
   "codemirror_mode": {
    "name": "ipython",
    "version": 3
   },
   "file_extension": ".py",
   "mimetype": "text/x-python",
   "name": "python",
   "nbconvert_exporter": "python",
   "pygments_lexer": "ipython3",
   "version": "3.12.7"
  }
 },
 "nbformat": 4,
 "nbformat_minor": 5
}
